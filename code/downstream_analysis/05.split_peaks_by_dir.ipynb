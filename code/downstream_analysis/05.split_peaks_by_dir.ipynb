{
 "cells": [
  {
   "cell_type": "code",
   "execution_count": 1,
   "metadata": {},
   "outputs": [],
   "source": [
    "import os\n",
    "import shutil\n",
    "\n",
    "import pandas as pd\n",
    "import numpy as np\n",
    "\n",
    "from os import listdir\n",
    "from os.path import isfile, join"
   ]
  },
  {
   "cell_type": "code",
   "execution_count": 2,
   "metadata": {},
   "outputs": [
    {
     "name": "stdout",
     "output_type": "stream",
     "text": [
      "metadata_subdir exists:True\n",
      "\n",
      "dpa_data_dir exists:True\n",
      "\n"
     ]
    }
   ],
   "source": [
    "experiment_id = \"NS-23.0061\"\n",
    "\n",
    "metadata_subdir = os.path.expanduser(\"~/fht.samba.data/experiments/ATACseq/{}/analysis/metadata/\".format(experiment_id))\n",
    "print('metadata_subdir exists:{}\\n'.format(os.path.exists(metadata_subdir)))\n",
    "\n",
    "dpa_data_dir ='../dpa_data/'\n",
    "print('dpa_data_dir exists:{}\\n'.format(os.path.exists(dpa_data_dir)))"
   ]
  },
  {
   "cell_type": "code",
   "execution_count": 3,
   "metadata": {},
   "outputs": [],
   "source": [
    "def create_dir(name_dir):\n",
    "    if os.path.exists(name_dir):\n",
    "        shutil.rmtree(name_dir)\n",
    "    os.mkdir(name_dir)\n",
    "    return name_dir"
   ]
  },
  {
   "cell_type": "code",
   "execution_count": 4,
   "metadata": {},
   "outputs": [
    {
     "data": {
      "text/plain": [
       "'../beds/'"
      ]
     },
     "execution_count": 4,
     "metadata": {},
     "output_type": "execute_result"
    }
   ],
   "source": [
    "bed_dir = create_dir('../beds/')  \n",
    "bed_dir"
   ]
  },
  {
   "cell_type": "code",
   "execution_count": 5,
   "metadata": {},
   "outputs": [
    {
     "name": "stdout",
     "output_type": "stream",
     "text": [
      "Files in metadata subdirectory:\n",
      "['ATACseq_ARID1AKO_ARID1BKD.csv', 'ATACseq_ARID1AKO_ARID1BKD.txt', 'NS-23.0061_metadata_r12x34.txt', 'ATACseq_ARID1AKO_ARID1BKD.xlsx', 'NS-23.0061_group_dict.json', 'NS-23.0061_contrast_dict.json', 'NS-23.0061_contrasts_r6x3.txt']\n",
      "\n",
      "input_orig_contrast_dir: NS-23.0061_contrasts_r6x3.txt - shape: (6, 3) \n",
      "\n"
     ]
    },
    {
     "data": {
      "text/html": [
       "<div>\n",
       "<style scoped>\n",
       "    .dataframe tbody tr th:only-of-type {\n",
       "        vertical-align: middle;\n",
       "    }\n",
       "\n",
       "    .dataframe tbody tr th {\n",
       "        vertical-align: top;\n",
       "    }\n",
       "\n",
       "    .dataframe thead th {\n",
       "        text-align: right;\n",
       "    }\n",
       "</style>\n",
       "<table border=\"1\" class=\"dataframe\">\n",
       "  <thead>\n",
       "    <tr style=\"text-align: right;\">\n",
       "      <th></th>\n",
       "      <th>test_group</th>\n",
       "      <th>negative_ctrl_grp</th>\n",
       "      <th>file_friendly_name</th>\n",
       "    </tr>\n",
       "    <tr>\n",
       "      <th>contrast</th>\n",
       "      <th></th>\n",
       "      <th></th>\n",
       "      <th></th>\n",
       "    </tr>\n",
       "  </thead>\n",
       "  <tbody>\n",
       "    <tr>\n",
       "      <th>ARID1BKD_HCT116 - WT_HCT116</th>\n",
       "      <td>ARID1BKD_HCT116</td>\n",
       "      <td>WT_HCT116</td>\n",
       "      <td>ARID1BKD_HCT116_WT_HCT116</td>\n",
       "    </tr>\n",
       "    <tr>\n",
       "      <th>ARID1AKO_HCT116 - WT_HCT116</th>\n",
       "      <td>ARID1AKO_HCT116</td>\n",
       "      <td>WT_HCT116</td>\n",
       "      <td>ARID1AKO_HCT116_WT_HCT116</td>\n",
       "    </tr>\n",
       "    <tr>\n",
       "      <th>ARID1AKO_ARID1BKD_HCT116 - WT_HCT116</th>\n",
       "      <td>ARID1AKO_ARID1BKD_HCT116</td>\n",
       "      <td>WT_HCT116</td>\n",
       "      <td>ARID1AKO_ARID1BKD_HCT116_WT_HCT116</td>\n",
       "    </tr>\n",
       "    <tr>\n",
       "      <th>ARID1AKO_ARID1BKD_HCT116 - ARID1AKO_HCT116</th>\n",
       "      <td>ARID1AKO_ARID1BKD_HCT116</td>\n",
       "      <td>ARID1AKO_HCT116</td>\n",
       "      <td>ARID1AKO_ARID1BKD_HCT116_ARID1AKO_HCT116</td>\n",
       "    </tr>\n",
       "    <tr>\n",
       "      <th>ARID1AKO_ARID1BKD_HCT116 - ARID1BKD_HCT116</th>\n",
       "      <td>ARID1AKO_ARID1BKD_HCT116</td>\n",
       "      <td>ARID1BKD_HCT116</td>\n",
       "      <td>ARID1AKO_ARID1BKD_HCT116_ARID1BKD_HCT116</td>\n",
       "    </tr>\n",
       "    <tr>\n",
       "      <th>ARID1BKD_TOV21G - WT_TOV21G</th>\n",
       "      <td>ARID1BKD_TOV21G</td>\n",
       "      <td>WT_TOV21G</td>\n",
       "      <td>ARID1BKD_TOV21G_WT_TOV21G</td>\n",
       "    </tr>\n",
       "  </tbody>\n",
       "</table>\n",
       "</div>"
      ],
      "text/plain": [
       "                                                          test_group  \\\n",
       "contrast                                                               \n",
       "ARID1BKD_HCT116 - WT_HCT116                          ARID1BKD_HCT116   \n",
       "ARID1AKO_HCT116 - WT_HCT116                          ARID1AKO_HCT116   \n",
       "ARID1AKO_ARID1BKD_HCT116 - WT_HCT116        ARID1AKO_ARID1BKD_HCT116   \n",
       "ARID1AKO_ARID1BKD_HCT116 - ARID1AKO_HCT116  ARID1AKO_ARID1BKD_HCT116   \n",
       "ARID1AKO_ARID1BKD_HCT116 - ARID1BKD_HCT116  ARID1AKO_ARID1BKD_HCT116   \n",
       "ARID1BKD_TOV21G - WT_TOV21G                          ARID1BKD_TOV21G   \n",
       "\n",
       "                                           negative_ctrl_grp  \\\n",
       "contrast                                                       \n",
       "ARID1BKD_HCT116 - WT_HCT116                        WT_HCT116   \n",
       "ARID1AKO_HCT116 - WT_HCT116                        WT_HCT116   \n",
       "ARID1AKO_ARID1BKD_HCT116 - WT_HCT116               WT_HCT116   \n",
       "ARID1AKO_ARID1BKD_HCT116 - ARID1AKO_HCT116   ARID1AKO_HCT116   \n",
       "ARID1AKO_ARID1BKD_HCT116 - ARID1BKD_HCT116   ARID1BKD_HCT116   \n",
       "ARID1BKD_TOV21G - WT_TOV21G                        WT_TOV21G   \n",
       "\n",
       "                                                                  file_friendly_name  \n",
       "contrast                                                                              \n",
       "ARID1BKD_HCT116 - WT_HCT116                                ARID1BKD_HCT116_WT_HCT116  \n",
       "ARID1AKO_HCT116 - WT_HCT116                                ARID1AKO_HCT116_WT_HCT116  \n",
       "ARID1AKO_ARID1BKD_HCT116 - WT_HCT116              ARID1AKO_ARID1BKD_HCT116_WT_HCT116  \n",
       "ARID1AKO_ARID1BKD_HCT116 - ARID1AKO_HCT116  ARID1AKO_ARID1BKD_HCT116_ARID1AKO_HCT116  \n",
       "ARID1AKO_ARID1BKD_HCT116 - ARID1BKD_HCT116  ARID1AKO_ARID1BKD_HCT116_ARID1BKD_HCT116  \n",
       "ARID1BKD_TOV21G - WT_TOV21G                                ARID1BKD_TOV21G_WT_TOV21G  "
      ]
     },
     "execution_count": 5,
     "metadata": {},
     "output_type": "execute_result"
    }
   ],
   "source": [
    "def read_contrast(metadata_subdir, experiment_id): \n",
    "    \n",
    "    metadata_files = [f for f in listdir(metadata_subdir) if isfile(join(metadata_subdir, f))]\n",
    "    print('Files in metadata subdirectory:\\n{}\\n'.format(metadata_files))\n",
    "\n",
    "    input_orig_contrast_dir = list(filter(lambda x: ('_contrasts_r' in x and experiment_id in x), metadata_files))[0] \n",
    "    contrasts_df = pd.read_table(metadata_subdir + input_orig_contrast_dir, delimiter = '\\t', index_col = 0)\n",
    "    print('input_orig_contrast_dir: {} - shape: {} \\n'.format(input_orig_contrast_dir, contrasts_df.shape))  \n",
    "    \n",
    "    return contrasts_df\n",
    "\n",
    "contrasts_df = read_contrast(metadata_subdir, experiment_id)\n",
    "contrasts_df"
   ]
  },
  {
   "cell_type": "code",
   "execution_count": 6,
   "metadata": {},
   "outputs": [],
   "source": [
    "# contrasts_df = contrasts_df.loc[contrasts_df.index.str.contains('KMS20|KO52'), : ]\n",
    "# contrasts_df"
   ]
  },
  {
   "cell_type": "code",
   "execution_count": 7,
   "metadata": {},
   "outputs": [],
   "source": [
    "def filter_DPA(dpa_data_dir, DPA_file):\n",
    "    \n",
    "    peak_df = pd.read_csv(dpa_data_dir + DPA_file,sep=\"\\t\", index_col=0)   \n",
    "    peak_df['-log10(pval)']=-np.log10(peak_df['P_Value'])    \n",
    "   \n",
    "    peak_df_up= peak_df[( peak_df['-log10(pval)']>1.3)&( peak_df['logFC']>=0.5)].reset_index()[['chr','start', 'end']]    \n",
    "    peak_df_down=peak_df[(peak_df['-log10(pval)']>1.3)&(peak_df['logFC']<=-0.5)].reset_index()[['chr','start', 'end']]\n",
    "    peak_df_unchanged=peak_df[(peak_df['-log10(pval)']<=1.3)|(np.abs(peak_df['logFC'])<0.5)].reset_index()[['chr','start', 'end']]\n",
    "    \n",
    "    locs= peak_df_unchanged.shape[0] + peak_df_up.shape[0] + peak_df_down.shape[0] == peak_df.shape[0]\n",
    "    print('down: {}, unchanged: {}, up: {}'.format(peak_df_down.shape[0], peak_df_unchanged.shape[0], peak_df_up.shape[0]))\n",
    "    print('Check that the number of rows of the df is equal to the sum of the up, down and unchanged df :{}\\n'.format(locs))\n",
    "    \n",
    "    return peak_df_up, peak_df_down, peak_df_unchanged"
   ]
  },
  {
   "cell_type": "code",
   "execution_count": 8,
   "metadata": {},
   "outputs": [
    {
     "name": "stdout",
     "output_type": "stream",
     "text": [
      "dpa_data_files:  ['NS-23.0061_ARID1BKD_TOV21G_WT_TOV21G_DPA_r64683x12.txt', 'NS-23.0061_ARID1AKO_ARID1BKD_HCT116_ARID1BKD_HCT116_DPA_r80370x12.txt', 'NS-23.0061_ARID1AKO_HCT116_WT_HCT116_DPA_r74739x12.txt', 'NS-23.0061_ARID1AKO_ARID1BKD_HCT116_ARID1AKO_HCT116_DPA_r70760x12.txt', 'NS-23.0061_ARID1BKD_HCT116_WT_HCT116_DPA_r76523x12.txt', 'NS-23.0061_ARID1AKO_ARID1BKD_HCT116_WT_HCT116_DPA_r75906x12.txt', 'NS-23.0061_differential_peak_area_counts_r3x6.txt']\n",
      "\n",
      "contrast:  ARID1BKD_HCT116_WT_HCT116\n",
      "\n",
      "DPA_file:  NS-23.0061_ARID1BKD_HCT116_WT_HCT116_DPA_r76523x12.txt\n",
      "down: 3100, unchanged: 70466, up: 2957\n",
      "Check that the number of rows of the df is equal to the sum of the up, down and unchanged df :True\n",
      "\n",
      "\n",
      "contrast:  ARID1AKO_HCT116_WT_HCT116\n",
      "\n",
      "DPA_file:  NS-23.0061_ARID1AKO_HCT116_WT_HCT116_DPA_r74739x12.txt\n",
      "down: 12537, unchanged: 54214, up: 7988\n",
      "Check that the number of rows of the df is equal to the sum of the up, down and unchanged df :True\n",
      "\n",
      "\n",
      "contrast:  ARID1AKO_ARID1BKD_HCT116_WT_HCT116\n",
      "\n",
      "DPA_file:  NS-23.0061_ARID1AKO_ARID1BKD_HCT116_WT_HCT116_DPA_r75906x12.txt\n",
      "down: 17608, unchanged: 47981, up: 10317\n",
      "Check that the number of rows of the df is equal to the sum of the up, down and unchanged df :True\n",
      "\n",
      "\n",
      "contrast:  ARID1AKO_ARID1BKD_HCT116_ARID1AKO_HCT116\n",
      "\n",
      "DPA_file:  NS-23.0061_ARID1AKO_ARID1BKD_HCT116_ARID1AKO_HCT116_DPA_r70760x12.txt\n",
      "down: 6314, unchanged: 60304, up: 4142\n",
      "Check that the number of rows of the df is equal to the sum of the up, down and unchanged df :True\n",
      "\n",
      "\n",
      "contrast:  ARID1AKO_ARID1BKD_HCT116_ARID1BKD_HCT116\n",
      "\n",
      "DPA_file:  NS-23.0061_ARID1AKO_ARID1BKD_HCT116_ARID1BKD_HCT116_DPA_r80370x12.txt\n",
      "down: 17465, unchanged: 51992, up: 10913\n",
      "Check that the number of rows of the df is equal to the sum of the up, down and unchanged df :True\n",
      "\n",
      "\n",
      "contrast:  ARID1BKD_TOV21G_WT_TOV21G\n",
      "\n",
      "DPA_file:  NS-23.0061_ARID1BKD_TOV21G_WT_TOV21G_DPA_r64683x12.txt\n",
      "down: 3762, unchanged: 57550, up: 3371\n",
      "Check that the number of rows of the df is equal to the sum of the up, down and unchanged df :True\n",
      "\n"
     ]
    }
   ],
   "source": [
    "def split_DPA_df(experiment_id, contrasts_df, dpa_data_dir):\n",
    "\n",
    "    dpa_data_files = [f for f in listdir(dpa_data_dir) if isfile(join(dpa_data_dir, f))]\n",
    "    print(\"dpa_data_files:  {}\".format(dpa_data_files))\n",
    "\n",
    "    for contrast in contrasts_df['file_friendly_name']:\n",
    "\n",
    "        print(\"\\ncontrast:  {}\\n\".format(contrast))\n",
    "        \n",
    "        DPA_file = list(filter(lambda x: (experiment_id in x and contrast in x), dpa_data_files))[0]\n",
    "        print(\"DPA_file:  {}\".format(DPA_file))\n",
    "\n",
    "        peak_df_up, peak_df_down, peak_df_unchanged = filter_DPA(dpa_data_dir, DPA_file)\n",
    "\n",
    "        # Create filename for each df\n",
    "        peak_df_up_filename = \"ATAC_seq_{}_up.bed\".format(contrast)\n",
    "        peak_df_down_filename = \"ATAC_seq_{}_down.bed\".format(contrast)\n",
    "        peak_df_unchanged_filename = \"ATAC_seq_{}_unchanged.bed\".format(contrast)\n",
    "\n",
    "        # Save dataframe in bed_dir\n",
    "        peak_df_up.to_csv(bed_dir + peak_df_up_filename, sep=\"\\t\",header=None, index=False)\n",
    "        peak_df_down.to_csv(bed_dir + peak_df_down_filename, sep=\"\\t\",header=None,index=False)\n",
    "        peak_df_unchanged.to_csv(bed_dir + peak_df_unchanged_filename, sep=\"\\t\",header=None, index=False)\n",
    "    \n",
    "split_DPA_df(experiment_id, contrasts_df, dpa_data_dir)"
   ]
  },
  {
   "cell_type": "code",
   "execution_count": null,
   "metadata": {},
   "outputs": [],
   "source": []
  },
  {
   "cell_type": "code",
   "execution_count": null,
   "metadata": {},
   "outputs": [],
   "source": []
  },
  {
   "cell_type": "code",
   "execution_count": null,
   "metadata": {},
   "outputs": [],
   "source": []
  }
 ],
 "metadata": {
  "kernelspec": {
   "display_name": "Python 3 (ipykernel)",
   "language": "python",
   "name": "python3"
  },
  "language_info": {
   "codemirror_mode": {
    "name": "ipython",
    "version": 3
   },
   "file_extension": ".py",
   "mimetype": "text/x-python",
   "name": "python",
   "nbconvert_exporter": "python",
   "pygments_lexer": "ipython3",
   "version": "3.7.11"
  }
 },
 "nbformat": 4,
 "nbformat_minor": 4
}
