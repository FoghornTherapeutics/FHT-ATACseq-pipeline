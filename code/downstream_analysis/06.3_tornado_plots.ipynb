{
 "cells": [
  {
   "cell_type": "code",
   "execution_count": 1,
   "id": "3d3822bf-225a-42b5-a8bf-a37f94ca773d",
   "metadata": {},
   "outputs": [],
   "source": [
    "%matplotlib notebook\n",
    "\n",
    "import os\n",
    "import shutil\n",
    "\n",
    "import pyBigWig\n",
    "import pybedtools\n",
    "\n",
    "import pandas as pd\n",
    "import numpy as numpy\n",
    "\n",
    "import re\n",
    "\n",
    "from os import listdir\n",
    "from os.path import isfile, join"
   ]
  },
  {
   "cell_type": "markdown",
   "id": "60c4c1d9-7eae-4dcf-961f-70558f4a941c",
   "metadata": {},
   "source": [
    "# Tornado plot with featureCounts"
   ]
  },
  {
   "cell_type": "code",
   "execution_count": 2,
   "id": "40b1e79e-722f-485f-8376-cf31d5b4d27a",
   "metadata": {},
   "outputs": [
    {
     "name": "stdout",
     "output_type": "stream",
     "text": [
      "metadata_subdir exists:True\n",
      "\n",
      "bw_dir exists:True\n",
      "\n",
      "bed_dir exists:True\n",
      "\n"
     ]
    }
   ],
   "source": [
    "experiment_id = \"NS-23.0061\"\n",
    "\n",
    "metadata_subdir = os.path.expanduser(\"~/fht.samba.data/experiments/ATACseq/{}/analysis/metadata/\".format(experiment_id))\n",
    "print('metadata_subdir exists:{}\\n'.format(os.path.exists(metadata_subdir)))\n",
    "\n",
    "bw_dir = os.path.expanduser(\"~/fht.samba.data/experiments/ATACseq/{}/alignment/coverage/\".format(experiment_id))\n",
    "print('bw_dir exists:{}\\n'.format(os.path.exists(bw_dir)))\n",
    "\n",
    "bed_dir = '../beds/'\n",
    "print('bed_dir exists:{}\\n'.format(os.path.exists(bed_dir)))"
   ]
  },
  {
   "cell_type": "code",
   "execution_count": 3,
   "id": "248a9959-fb1a-4030-8800-20fbf21e19b4",
   "metadata": {},
   "outputs": [],
   "source": [
    "def create_dir(name_dir):\n",
    "    if os.path.exists(name_dir):\n",
    "        shutil.rmtree(name_dir)\n",
    "    os.mkdir(name_dir)\n",
    "    return name_dir"
   ]
  },
  {
   "cell_type": "code",
   "execution_count": 4,
   "id": "a7a3f352-da5f-4bdf-82c0-d5cf3935ad19",
   "metadata": {},
   "outputs": [
    {
     "data": {
      "text/plain": [
       "'../TP/'"
      ]
     },
     "execution_count": 4,
     "metadata": {},
     "output_type": "execute_result"
    }
   ],
   "source": [
    "TP_dir = create_dir('../TP/')\n",
    "TP_dir"
   ]
  },
  {
   "cell_type": "code",
   "execution_count": 5,
   "id": "c94a92ed-4af5-40c9-a381-173eefd4d44d",
   "metadata": {},
   "outputs": [
    {
     "name": "stdout",
     "output_type": "stream",
     "text": [
      "Files in metadata subdirectory:\n",
      "['ATACseq_ARID1AKO_ARID1BKD.csv', 'ATACseq_ARID1AKO_ARID1BKD.txt', 'NS-23.0061_metadata_r12x34.txt', 'ATACseq_ARID1AKO_ARID1BKD.xlsx', 'NS-23.0061_group_dict.json', 'NS-23.0061_contrast_dict.json', 'NS-23.0061_contrasts_r5x3.txt']\n",
      "\n",
      "input_orig_contrast_dir: NS-23.0061_contrasts_r5x3.txt - shape: (5, 3) \n",
      "\n"
     ]
    },
    {
     "data": {
      "text/html": [
       "<div>\n",
       "<style scoped>\n",
       "    .dataframe tbody tr th:only-of-type {\n",
       "        vertical-align: middle;\n",
       "    }\n",
       "\n",
       "    .dataframe tbody tr th {\n",
       "        vertical-align: top;\n",
       "    }\n",
       "\n",
       "    .dataframe thead th {\n",
       "        text-align: right;\n",
       "    }\n",
       "</style>\n",
       "<table border=\"1\" class=\"dataframe\">\n",
       "  <thead>\n",
       "    <tr style=\"text-align: right;\">\n",
       "      <th></th>\n",
       "      <th>test_group</th>\n",
       "      <th>negative_ctrl_grp</th>\n",
       "      <th>file_friendly_name</th>\n",
       "    </tr>\n",
       "    <tr>\n",
       "      <th>contrast</th>\n",
       "      <th></th>\n",
       "      <th></th>\n",
       "      <th></th>\n",
       "    </tr>\n",
       "  </thead>\n",
       "  <tbody>\n",
       "    <tr>\n",
       "      <th>ARID1BKD_HCT116 - WT_HCT116</th>\n",
       "      <td>ARID1BKD_HCT116</td>\n",
       "      <td>WT_HCT116</td>\n",
       "      <td>ARID1BKD_HCT116_WT_HCT116</td>\n",
       "    </tr>\n",
       "    <tr>\n",
       "      <th>ARID1AKO_HCT116 - WT_HCT116</th>\n",
       "      <td>ARID1AKO_HCT116</td>\n",
       "      <td>WT_HCT116</td>\n",
       "      <td>ARID1AKO_HCT116_WT_HCT116</td>\n",
       "    </tr>\n",
       "    <tr>\n",
       "      <th>ARID1AKO_ARID1BKD_HCT116 - WT_HCT116</th>\n",
       "      <td>ARID1AKO_ARID1BKD_HCT116</td>\n",
       "      <td>WT_HCT116</td>\n",
       "      <td>ARID1AKO_ARID1BKD_HCT116_WT_HCT116</td>\n",
       "    </tr>\n",
       "    <tr>\n",
       "      <th>ARID1AKO_ARID1BKD_HCT116 - ARID1AKO_HCT116</th>\n",
       "      <td>ARID1AKO_ARID1BKD_HCT116</td>\n",
       "      <td>ARID1AKO_HCT116</td>\n",
       "      <td>ARID1AKO_ARID1BKD_HCT116_ARID1AKO_HCT116</td>\n",
       "    </tr>\n",
       "    <tr>\n",
       "      <th>ARID1BKD_TOV21G - WT_TOV21G</th>\n",
       "      <td>ARID1BKD_TOV21G</td>\n",
       "      <td>WT_TOV21G</td>\n",
       "      <td>ARID1BKD_TOV21G_WT_TOV21G</td>\n",
       "    </tr>\n",
       "  </tbody>\n",
       "</table>\n",
       "</div>"
      ],
      "text/plain": [
       "                                                          test_group  \\\n",
       "contrast                                                               \n",
       "ARID1BKD_HCT116 - WT_HCT116                          ARID1BKD_HCT116   \n",
       "ARID1AKO_HCT116 - WT_HCT116                          ARID1AKO_HCT116   \n",
       "ARID1AKO_ARID1BKD_HCT116 - WT_HCT116        ARID1AKO_ARID1BKD_HCT116   \n",
       "ARID1AKO_ARID1BKD_HCT116 - ARID1AKO_HCT116  ARID1AKO_ARID1BKD_HCT116   \n",
       "ARID1BKD_TOV21G - WT_TOV21G                          ARID1BKD_TOV21G   \n",
       "\n",
       "                                           negative_ctrl_grp  \\\n",
       "contrast                                                       \n",
       "ARID1BKD_HCT116 - WT_HCT116                        WT_HCT116   \n",
       "ARID1AKO_HCT116 - WT_HCT116                        WT_HCT116   \n",
       "ARID1AKO_ARID1BKD_HCT116 - WT_HCT116               WT_HCT116   \n",
       "ARID1AKO_ARID1BKD_HCT116 - ARID1AKO_HCT116   ARID1AKO_HCT116   \n",
       "ARID1BKD_TOV21G - WT_TOV21G                        WT_TOV21G   \n",
       "\n",
       "                                                                  file_friendly_name  \n",
       "contrast                                                                              \n",
       "ARID1BKD_HCT116 - WT_HCT116                                ARID1BKD_HCT116_WT_HCT116  \n",
       "ARID1AKO_HCT116 - WT_HCT116                                ARID1AKO_HCT116_WT_HCT116  \n",
       "ARID1AKO_ARID1BKD_HCT116 - WT_HCT116              ARID1AKO_ARID1BKD_HCT116_WT_HCT116  \n",
       "ARID1AKO_ARID1BKD_HCT116 - ARID1AKO_HCT116  ARID1AKO_ARID1BKD_HCT116_ARID1AKO_HCT116  \n",
       "ARID1BKD_TOV21G - WT_TOV21G                                ARID1BKD_TOV21G_WT_TOV21G  "
      ]
     },
     "execution_count": 5,
     "metadata": {},
     "output_type": "execute_result"
    }
   ],
   "source": [
    "def read_contrast(metadata_subdir, experiment_id): \n",
    "    \n",
    "    metadata_files = [f for f in listdir(metadata_subdir) if isfile(join(metadata_subdir, f))]\n",
    "    print('Files in metadata subdirectory:\\n{}\\n'.format(metadata_files))\n",
    "\n",
    "    input_orig_contrast_dir = list(filter(lambda x: ('_contrasts_r' in x and experiment_id in x), metadata_files))[0] \n",
    "    contrasts_df = pd.read_table(metadata_subdir + input_orig_contrast_dir, delimiter = '\\t', index_col = 0)\n",
    "    print('input_orig_contrast_dir: {} - shape: {} \\n'.format(input_orig_contrast_dir, contrasts_df.shape))  \n",
    "    \n",
    "    return contrasts_df\n",
    "\n",
    "contrasts_df = read_contrast(metadata_subdir, experiment_id)\n",
    "contrasts_df"
   ]
  },
  {
   "cell_type": "code",
   "execution_count": null,
   "id": "3d660a44-3b58-4edb-a53f-ab2460c913a4",
   "metadata": {},
   "outputs": [
    {
     "name": "stdout",
     "output_type": "stream",
     "text": [
      "\n",
      "contrast:  ARID1BKD_HCT116 - WT_HCT116, friendly_name:  ARID1BKD_HCT116_WT_HCT116\n",
      "\n",
      "negative_ctrl_grp:  WT_HCT116, \n",
      "test_group:  ARID1BKD_HCT116 \n",
      "\n",
      "direction:  down\n",
      "\n",
      "direction:  unchanged\n",
      "\n",
      "direction:  up\n",
      "\n",
      "contrast:  ARID1AKO_HCT116 - WT_HCT116, friendly_name:  ARID1AKO_HCT116_WT_HCT116\n",
      "\n",
      "negative_ctrl_grp:  WT_HCT116, \n",
      "test_group:  ARID1AKO_HCT116 \n",
      "\n",
      "direction:  down\n",
      "\n",
      "direction:  unchanged\n",
      "\n",
      "direction:  up\n",
      "\n",
      "contrast:  ARID1AKO_ARID1BKD_HCT116 - WT_HCT116, friendly_name:  ARID1AKO_ARID1BKD_HCT116_WT_HCT116\n",
      "\n",
      "negative_ctrl_grp:  WT_HCT116, \n",
      "test_group:  ARID1AKO_ARID1BKD_HCT116 \n",
      "\n",
      "direction:  down\n",
      "\n",
      "direction:  unchanged\n",
      "\n",
      "direction:  up\n"
     ]
    }
   ],
   "source": [
    "def computeMatrix(contrasts_df, bed_dir, bw_dir, TP_dir):\n",
    "    \n",
    "  \n",
    "    for contrast in contrasts_df.index[:]:\n",
    "\n",
    "        friendly_name = contrasts_df[contrasts_df.index==contrast]['file_friendly_name'][0]\n",
    "        print(\"\\ncontrast:  {}, friendly_name:  {}\".format(contrast, friendly_name))\n",
    "        \n",
    "        negative_ctrl_grp = contrasts_df[contrasts_df.index==contrast]['negative_ctrl_grp'][0]\n",
    "        test_group = contrasts_df[contrasts_df.index==contrast]['test_group'][0]\n",
    "        print(\"\\nnegative_ctrl_grp:  {}, \\ntest_group:  {} \".format(negative_ctrl_grp, test_group))        \n",
    "        \n",
    "        # For DMSO\n",
    "        for direction in ['down', 'unchanged', 'up']:\n",
    "            print(\"\\ndirection:  {}\".format(direction))\n",
    "            !computeMatrix reference-point -p 48 -R {bed_dir}ATAC_seq_{friendly_name}_{direction}.bed  -S {bw_dir}{negative_ctrl_grp}.bw  --samplesLabel {friendly_name}  --outFileName {TP_dir}ATAC_seq_{friendly_name}_{direction}_{negative_ctrl_grp}.dat  --outFileSortedRegions {TP_dir}ATAC_seq_{friendly_name}_{direction}_{negative_ctrl_grp}.bed --referencePoint center   --beforeRegionStartLength 1000 --afterRegionStartLength 1000  --sortRegions 'descend' --sortUsing 'mean'  --averageTypeBins 'mean' --binSize 20  --transcriptID transcript  --exonID exon --transcript_id_designator transcript_id \n",
    "         \n",
    "        !cat {TP_dir}ATAC_seq_{friendly_name}_down_{negative_ctrl_grp}.bed {TP_dir}ATAC_seq_{friendly_name}_unchanged_{negative_ctrl_grp}.bed {TP_dir}ATAC_seq_{friendly_name}_up_{negative_ctrl_grp}.bed > {TP_dir}ATAC_seq_{friendly_name}_all_{negative_ctrl_grp}.bed            \n",
    "        \n",
    "        cmd_computeMatrix_DMSO = \"\"\"computeMatrix reference-point  -R {TP_dir}ATAC_seq_{friendly_name}_all_{negative_ctrl_grp}.bed   -S {bw_dir}{negative_ctrl_grp}.bw  {bw_dir}{test_group}.bw  --outFileName {TP_dir}ATAC_seq_{friendly_name}.dat  --referencePoint center   --beforeRegionStartLength 1000 --afterRegionStartLength 1000  --sortRegions 'keep' --sortUsing 'mean'  --averageTypeBins 'mean' --binSize 20  --transcriptID transcript  --exonID exon --transcript_id_designator transcript_id\"\"\".format(TP_dir=TP_dir, friendly_name=friendly_name, bw_dir=bw_dir, negative_ctrl_grp=negative_ctrl_grp, test_group=test_group)\n",
    "        # print(cmd_computeMatrix_DMSO)\n",
    "        !{cmd_computeMatrix_DMSO}\n",
    "        \n",
    "computeMatrix(contrasts_df, bed_dir, bw_dir, TP_dir)"
   ]
  },
  {
   "cell_type": "code",
   "execution_count": null,
   "id": "315c0796-e56b-43e2-8138-b57d1e9b9f69",
   "metadata": {},
   "outputs": [],
   "source": [
    "def plotHeatmap(contrasts_df, bed_dir, bw_dir, TP_dir):   \n",
    "\n",
    "    for contrast in contrasts_df.index[:]:\n",
    "\n",
    "        friendly_name = contrasts_df[contrasts_df.index==contrast]['file_friendly_name'][0]\n",
    "        print(\"\\ncontrast:  {}, friendly_name:  {}\".format(contrast, friendly_name))\n",
    "        \n",
    "        negative_ctrl_grp = contrasts_df[contrasts_df.index==contrast]['negative_ctrl_grp'][0]\n",
    "        test_group = contrasts_df[contrasts_df.index==contrast]['test_group'][0]\n",
    "        print(\"\\nnegative_ctrl_grp:  {}, \\ntest_group:  {} \".format(negative_ctrl_grp, test_group))        \n",
    "                \n",
    "        cmd_plotHeatmap = \"\"\"plotHeatmap --matrixFile {TP_dir}ATAC_seq_{friendly_name}.dat --outFileName {TP_dir}ATAC_seq_{friendly_name}.pdf  --colorMap Oranges   --plotFileFormat 'pdf'    --dpi '500'  --sortRegions 'no'  --sortUsing 'mean'  --averageTypeSummaryPlot 'mean'  --plotType 'lines'  --missingDataColor 'black'   --alpha '1.0'    --xAxisLabel '' --yAxisLabel ''  --heatmapWidth 7.5 --heatmapHeight 25.0  --whatToShow 'plot, heatmap and colorbar'  --startLabel '' --endLabel ''  --refPointLabel '0'       --legendLocation 'best'  --labelRotation '0'\"\"\".format(TP_dir=TP_dir, friendly_name=friendly_name, contrast=contrast)\n",
    "        # print(cmd_plotHeatmap)\n",
    "        ! {cmd_plotHeatmap}\n",
    "    \n",
    "plotHeatmap(contrasts_df, bed_dir, bw_dir, TP_dir)"
   ]
  },
  {
   "cell_type": "code",
   "execution_count": null,
   "id": "4178c8a4-184d-461d-a21e-0e52762b2553",
   "metadata": {},
   "outputs": [],
   "source": []
  },
  {
   "cell_type": "code",
   "execution_count": null,
   "id": "25eff81b-3a2e-41a5-a0bb-0746438af4a5",
   "metadata": {},
   "outputs": [],
   "source": []
  },
  {
   "cell_type": "code",
   "execution_count": null,
   "id": "c65651eb-c958-4a74-8e59-02c444f5e1db",
   "metadata": {},
   "outputs": [],
   "source": []
  },
  {
   "cell_type": "code",
   "execution_count": null,
   "id": "dc9896ee-0d6e-41be-bc84-e24e339c4dc7",
   "metadata": {},
   "outputs": [],
   "source": []
  }
 ],
 "metadata": {
  "kernelspec": {
   "display_name": "Python 3 (ipykernel)",
   "language": "python",
   "name": "python3"
  },
  "language_info": {
   "codemirror_mode": {
    "name": "ipython",
    "version": 3
   },
   "file_extension": ".py",
   "mimetype": "text/x-python",
   "name": "python",
   "nbconvert_exporter": "python",
   "pygments_lexer": "ipython3",
   "version": "3.7.11"
  }
 },
 "nbformat": 4,
 "nbformat_minor": 5
}
