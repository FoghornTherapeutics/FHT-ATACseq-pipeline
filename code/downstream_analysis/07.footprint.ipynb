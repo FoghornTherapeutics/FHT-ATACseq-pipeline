{
 "cells": [
  {
   "cell_type": "code",
   "execution_count": 1,
   "id": "ce51a842-23fd-4fca-bff6-d6f77bf1adb6",
   "metadata": {},
   "outputs": [],
   "source": [
    "import os\n",
    "import shutil\n",
    "\n",
    "import pandas as pd\n",
    "import numpy as np\n",
    "import json \n",
    "from os import listdir\n",
    "from os.path import isfile, join\n",
    "\n",
    "from scipy import stats\n",
    "\n",
    "import plotly\n",
    "import plotly.express as px\n",
    "import plotly.io as pio\n",
    "import matplotlib.pyplot as plt\n",
    "import seaborn as sns\n",
    "from adjustText import adjust_text"
   ]
  },
  {
   "cell_type": "markdown",
   "id": "4a197419-64ed-464d-8292-47c1ee48ba05",
   "metadata": {},
   "source": [
    "# Footprinting"
   ]
  },
  {
   "cell_type": "code",
   "execution_count": 2,
   "id": "06b62fd5-63ba-42b2-8ac3-9a8fb1adfc9c",
   "metadata": {},
   "outputs": [
    {
     "name": "stdout",
     "output_type": "stream",
     "text": [
      "metadata_subdir exists:True\n",
      "\n",
      "BAM_DIR exists:True\n",
      "\n",
      "FOOT_BED_DIR exists:True\n",
      "\n"
     ]
    }
   ],
   "source": [
    "experiment_id = \"NS-23.0061\"\n",
    "\n",
    "metadata_subdir = os.path.expanduser(\"~/fht.samba.data/experiments/ATACseq/{}/analysis/metadata/\".format(experiment_id))\n",
    "print('metadata_subdir exists:{}\\n'.format(os.path.exists(metadata_subdir)))\n",
    "\n",
    "BAM_DIR = os.path.expanduser(\"~/fht.samba.data/experiments/ATACseq/{}/alignment/bam/\".format(experiment_id))\n",
    "print('BAM_DIR exists:{}\\n'.format(os.path.exists(BAM_DIR)))\n",
    "\n",
    "FOOT_BED_DIR = os.path.expanduser(\"~/fht.samba.data/experiments/ATACseq/{}/alignment/footprint_bed/\".format(experiment_id))\n",
    "print('FOOT_BED_DIR exists:{}\\n'.format(os.path.exists(FOOT_BED_DIR)))\n",
    "\n",
    "genome = 'hg38' # or mm10"
   ]
  },
  {
   "cell_type": "code",
   "execution_count": 3,
   "id": "5144058a-559a-40dd-ac23-eeff0e2ea62a",
   "metadata": {},
   "outputs": [],
   "source": [
    "def create_dir(name_dir):\n",
    "    # if os.path.exists(name_dir):\n",
    "    #     shutil.rmtree(name_dir)\n",
    "    # os.mkdir(name_dir)\n",
    "    return name_dir"
   ]
  },
  {
   "cell_type": "code",
   "execution_count": 4,
   "id": "6900d702-7b84-4245-9b05-5cfbc55a9433",
   "metadata": {},
   "outputs": [
    {
     "name": "stdout",
     "output_type": "stream",
     "text": [
      "../footprint/\n"
     ]
    }
   ],
   "source": [
    "footprint_dir = create_dir(\"../footprint/\")\n",
    "print(footprint_dir)"
   ]
  },
  {
   "cell_type": "code",
   "execution_count": 5,
   "id": "1d981dfd-afc3-4e04-a27e-4baaee7bc982",
   "metadata": {
    "tags": []
   },
   "outputs": [
    {
     "name": "stdout",
     "output_type": "stream",
     "text": [
      "Files in metadata subdirectory:\n",
      "['ATACseq_ARID1AKO_ARID1BKD.csv', 'ATACseq_ARID1AKO_ARID1BKD.txt', 'NS-23.0061_metadata_r12x34.txt', 'ATACseq_ARID1AKO_ARID1BKD.xlsx', 'NS-23.0061_group_dict.json', 'NS-23.0061_contrast_dict.json', 'NS-23.0061_contrasts_r6x3.txt']\n",
      "\n",
      "input_orig_contrast_dir: NS-23.0061_contrasts_r6x3.txt - shape: (6, 3) \n",
      "\n"
     ]
    },
    {
     "data": {
      "text/html": [
       "<div>\n",
       "<style scoped>\n",
       "    .dataframe tbody tr th:only-of-type {\n",
       "        vertical-align: middle;\n",
       "    }\n",
       "\n",
       "    .dataframe tbody tr th {\n",
       "        vertical-align: top;\n",
       "    }\n",
       "\n",
       "    .dataframe thead th {\n",
       "        text-align: right;\n",
       "    }\n",
       "</style>\n",
       "<table border=\"1\" class=\"dataframe\">\n",
       "  <thead>\n",
       "    <tr style=\"text-align: right;\">\n",
       "      <th></th>\n",
       "      <th>test_group</th>\n",
       "      <th>negative_ctrl_grp</th>\n",
       "      <th>file_friendly_name</th>\n",
       "    </tr>\n",
       "    <tr>\n",
       "      <th>contrast</th>\n",
       "      <th></th>\n",
       "      <th></th>\n",
       "      <th></th>\n",
       "    </tr>\n",
       "  </thead>\n",
       "  <tbody>\n",
       "    <tr>\n",
       "      <th>ARID1BKD_HCT116 - WT_HCT116</th>\n",
       "      <td>ARID1BKD_HCT116</td>\n",
       "      <td>WT_HCT116</td>\n",
       "      <td>ARID1BKD_HCT116_WT_HCT116</td>\n",
       "    </tr>\n",
       "    <tr>\n",
       "      <th>ARID1AKO_HCT116 - WT_HCT116</th>\n",
       "      <td>ARID1AKO_HCT116</td>\n",
       "      <td>WT_HCT116</td>\n",
       "      <td>ARID1AKO_HCT116_WT_HCT116</td>\n",
       "    </tr>\n",
       "    <tr>\n",
       "      <th>ARID1AKO_ARID1BKD_HCT116 - WT_HCT116</th>\n",
       "      <td>ARID1AKO_ARID1BKD_HCT116</td>\n",
       "      <td>WT_HCT116</td>\n",
       "      <td>ARID1AKO_ARID1BKD_HCT116_WT_HCT116</td>\n",
       "    </tr>\n",
       "    <tr>\n",
       "      <th>ARID1AKO_ARID1BKD_HCT116 - ARID1AKO_HCT116</th>\n",
       "      <td>ARID1AKO_ARID1BKD_HCT116</td>\n",
       "      <td>ARID1AKO_HCT116</td>\n",
       "      <td>ARID1AKO_ARID1BKD_HCT116_ARID1AKO_HCT116</td>\n",
       "    </tr>\n",
       "    <tr>\n",
       "      <th>ARID1AKO_ARID1BKD_HCT116 - ARID1BKD_HCT116</th>\n",
       "      <td>ARID1AKO_ARID1BKD_HCT116</td>\n",
       "      <td>ARID1BKD_HCT116</td>\n",
       "      <td>ARID1AKO_ARID1BKD_HCT116_ARID1BKD_HCT116</td>\n",
       "    </tr>\n",
       "    <tr>\n",
       "      <th>ARID1BKD_TOV21G - WT_TOV21G</th>\n",
       "      <td>ARID1BKD_TOV21G</td>\n",
       "      <td>WT_TOV21G</td>\n",
       "      <td>ARID1BKD_TOV21G_WT_TOV21G</td>\n",
       "    </tr>\n",
       "  </tbody>\n",
       "</table>\n",
       "</div>"
      ],
      "text/plain": [
       "                                                          test_group  \\\n",
       "contrast                                                               \n",
       "ARID1BKD_HCT116 - WT_HCT116                          ARID1BKD_HCT116   \n",
       "ARID1AKO_HCT116 - WT_HCT116                          ARID1AKO_HCT116   \n",
       "ARID1AKO_ARID1BKD_HCT116 - WT_HCT116        ARID1AKO_ARID1BKD_HCT116   \n",
       "ARID1AKO_ARID1BKD_HCT116 - ARID1AKO_HCT116  ARID1AKO_ARID1BKD_HCT116   \n",
       "ARID1AKO_ARID1BKD_HCT116 - ARID1BKD_HCT116  ARID1AKO_ARID1BKD_HCT116   \n",
       "ARID1BKD_TOV21G - WT_TOV21G                          ARID1BKD_TOV21G   \n",
       "\n",
       "                                           negative_ctrl_grp  \\\n",
       "contrast                                                       \n",
       "ARID1BKD_HCT116 - WT_HCT116                        WT_HCT116   \n",
       "ARID1AKO_HCT116 - WT_HCT116                        WT_HCT116   \n",
       "ARID1AKO_ARID1BKD_HCT116 - WT_HCT116               WT_HCT116   \n",
       "ARID1AKO_ARID1BKD_HCT116 - ARID1AKO_HCT116   ARID1AKO_HCT116   \n",
       "ARID1AKO_ARID1BKD_HCT116 - ARID1BKD_HCT116   ARID1BKD_HCT116   \n",
       "ARID1BKD_TOV21G - WT_TOV21G                        WT_TOV21G   \n",
       "\n",
       "                                                                  file_friendly_name  \n",
       "contrast                                                                              \n",
       "ARID1BKD_HCT116 - WT_HCT116                                ARID1BKD_HCT116_WT_HCT116  \n",
       "ARID1AKO_HCT116 - WT_HCT116                                ARID1AKO_HCT116_WT_HCT116  \n",
       "ARID1AKO_ARID1BKD_HCT116 - WT_HCT116              ARID1AKO_ARID1BKD_HCT116_WT_HCT116  \n",
       "ARID1AKO_ARID1BKD_HCT116 - ARID1AKO_HCT116  ARID1AKO_ARID1BKD_HCT116_ARID1AKO_HCT116  \n",
       "ARID1AKO_ARID1BKD_HCT116 - ARID1BKD_HCT116  ARID1AKO_ARID1BKD_HCT116_ARID1BKD_HCT116  \n",
       "ARID1BKD_TOV21G - WT_TOV21G                                ARID1BKD_TOV21G_WT_TOV21G  "
      ]
     },
     "execution_count": 5,
     "metadata": {},
     "output_type": "execute_result"
    }
   ],
   "source": [
    "def read_contrast(metadata_subdir, experiment_id): \n",
    "    \n",
    "    metadata_files = [f for f in listdir(metadata_subdir) if isfile(join(metadata_subdir, f))]\n",
    "    print('Files in metadata subdirectory:\\n{}\\n'.format(metadata_files))\n",
    "\n",
    "    input_orig_contrast_dir = list(filter(lambda x: ('_contrasts_r' in x and experiment_id in x), metadata_files))[0] \n",
    "    contrasts_df = pd.read_table(metadata_subdir + input_orig_contrast_dir, delimiter = '\\t', index_col = 0)\n",
    "    print('input_orig_contrast_dir: {} - shape: {} \\n'.format(input_orig_contrast_dir, contrasts_df.shape))  \n",
    "    \n",
    "    return contrasts_df\n",
    "\n",
    "contrasts_df = read_contrast(metadata_subdir, experiment_id)\n",
    "contrasts_df"
   ]
  },
  {
   "cell_type": "code",
   "execution_count": 6,
   "id": "4c124612-cb62-4b95-adb8-bb3ba25fd4a6",
   "metadata": {
    "tags": []
   },
   "outputs": [
    {
     "name": "stdout",
     "output_type": "stream",
     "text": [
      "output_filename : NS-23.0061_contrast_dict.json\n",
      "output_filepath : /home/fuzan/fht.samba.data/experiments/ATACseq/NS-23.0061/analysis/metadata/NS-23.0061_contrast_dict.json\n"
     ]
    },
    {
     "data": {
      "text/plain": [
       "{'ARID1BKD_HCT116_WT_HCT116': {'contrast': 'ARID1BKD_HCT116 - WT_HCT116',\n",
       "  'test_group': {'ARID1BKD_HCT116': ['SRR5876160', 'SRR5876161']},\n",
       "  'negative_ctrl_grp': {'WT_HCT116': ['SRR5876158', 'SRR5876159']}},\n",
       " 'ARID1AKO_HCT116_WT_HCT116': {'contrast': 'ARID1AKO_HCT116 - WT_HCT116',\n",
       "  'test_group': {'ARID1AKO_HCT116': ['SRR5876162', 'SRR5876163']},\n",
       "  'negative_ctrl_grp': {'WT_HCT116': ['SRR5876158', 'SRR5876159']}},\n",
       " 'ARID1AKO_ARID1BKD_HCT116_WT_HCT116': {'contrast': 'ARID1AKO_ARID1BKD_HCT116 - WT_HCT116',\n",
       "  'test_group': {'ARID1AKO_ARID1BKD_HCT116': ['SRR5876164', 'SRR5876165']},\n",
       "  'negative_ctrl_grp': {'WT_HCT116': ['SRR5876158', 'SRR5876159']}},\n",
       " 'ARID1AKO_ARID1BKD_HCT116_ARID1AKO_HCT116': {'contrast': 'ARID1AKO_ARID1BKD_HCT116 - ARID1AKO_HCT116',\n",
       "  'test_group': {'ARID1AKO_ARID1BKD_HCT116': ['SRR5876164', 'SRR5876165']},\n",
       "  'negative_ctrl_grp': {'ARID1AKO_HCT116': ['SRR5876162', 'SRR5876163']}},\n",
       " 'ARID1AKO_ARID1BKD_HCT116_ARID1BKD_HCT116': {'contrast': 'ARID1AKO_ARID1BKD_HCT116 - ARID1BKD_HCT116',\n",
       "  'test_group': {'ARID1AKO_ARID1BKD_HCT116': ['SRR5876164', 'SRR5876165']},\n",
       "  'negative_ctrl_grp': {'ARID1BKD_HCT116': ['SRR5876160', 'SRR5876161']}},\n",
       " 'ARID1BKD_TOV21G_WT_TOV21G': {'contrast': 'ARID1BKD_TOV21G - WT_TOV21G',\n",
       "  'test_group': {'ARID1BKD_TOV21G': ['SRR5876663', 'SRR5876664']},\n",
       "  'negative_ctrl_grp': {'WT_TOV21G': ['SRR5876661', 'SRR5876662']}}}"
      ]
     },
     "execution_count": 6,
     "metadata": {},
     "output_type": "execute_result"
    }
   ],
   "source": [
    "def read_contrast_dict(metadata_subdir, experiment_id): \n",
    "    output_filename = experiment_id + '_contrast_dict.json'\n",
    "    print(\"output_filename : {}\".format(output_filename))\n",
    "\n",
    "    output_filepath = os.path.join(metadata_subdir, output_filename)\n",
    "    print(\"output_filepath : {}\".format(output_filepath))\n",
    "    \n",
    "    # Opening JSON file\n",
    "    with open(output_filepath) as json_file:\n",
    "        contrast_dict = json.load(json_file)\n",
    "        \n",
    "    return contrast_dict\n",
    "\n",
    "contrast_dict = read_contrast_dict(metadata_subdir, experiment_id)\n",
    "contrast_dict"
   ]
  },
  {
   "cell_type": "code",
   "execution_count": null,
   "id": "2e9105de-1ed5-48c9-bf20-4ffc84ee52a4",
   "metadata": {},
   "outputs": [],
   "source": []
  },
  {
   "cell_type": "markdown",
   "id": "ec439ab4-ff83-494f-a1a9-0525d0bbba8c",
   "metadata": {},
   "source": [
    "# Differential Footprints calculations"
   ]
  },
  {
   "cell_type": "code",
   "execution_count": null,
   "id": "2afb599d-5539-4f56-8381-e3ca46d8b0ee",
   "metadata": {},
   "outputs": [],
   "source": [
    "# #### RUN DURING ALIGNMENT ####\n",
    "# sample_list = list(metadata_df.index)\n",
    "# print(\"sample_list: \\n{}\\n\".format(sample_list))\n",
    "    \n",
    "# for sample in sample_list:\n",
    "#     print(\"sample path: \\n{}\\n\".format(sample))\n",
    "    \n",
    "#     narrowPeak = PEAKS_dir + sample + '.filtered.narrowPeak'\n",
    "#     print(\"narrowPeak path: \\n{}\\n\".format(narrowPeak))  \n",
    "    \n",
    "#     bam = BAM_DIR + sample + '.small.chrsorted.BAM' \n",
    "#     print(\"bam path: \\n{}\\n\".format(bam))\n",
    "\n",
    "#     ## 1- Generate bed file ##\n",
    "#     cmd_bed = \"\"\"rgt-hint footprinting --atac-seq --paired-end --organism={genome} --output-location={footprint_dir}{contrast}/ --output-prefix={sample} {bam} {narrowPeak}\"\"\".format(genome=genome, footprint_dir=footprint_dir, sample=sample, bam=bam, narrowPeak=narrowPeak, contrast=contrast) \n",
    "#     # print(cmd_bed)\n",
    "#     !{cmd_bed}\n",
    "        \n",
    "#     ## 2- Finding motifs overlapping with predicted footprints ##\n",
    "#     cmd_motifs = \"\"\"rgt-motifanalysis matching --organism={genome} --input-files {footprint_dir}{contrast}/{sample}.bed --output-location={footprint_dir}{contrast}/\"\"\".format(genome=genome, footprint_dir=footprint_dir, sample=sample, contrast=contrast) \n",
    "#     # print(cmd_motifs)\n",
    "#     !{cmd_motifs}"
   ]
  },
  {
   "cell_type": "code",
   "execution_count": null,
   "id": "9ab166ed-53fb-4a6f-be75-9a336136808b",
   "metadata": {},
   "outputs": [],
   "source": [
    "def create_footprint_contrast_dir(contrast):\n",
    "    footprint_contrast_dir = \"../footprint/{}/\".format(contrast)\n",
    "    if os.path.exists(footprint_contrast_dir):\n",
    "        shutil.rmtree(footprint_contrast_dir)\n",
    "    os.mkdir(footprint_contrast_dir)\n",
    "    return footprint_contrast_dir"
   ]
  },
  {
   "cell_type": "code",
   "execution_count": null,
   "id": "8760ef25-fdd9-4f67-8d63-055086d68d21",
   "metadata": {
    "tags": []
   },
   "outputs": [],
   "source": [
    "for contrast in list(contrast_dict.keys())[4:5]:\n",
    "    print(\"\\ncontrast: \\n{}\\n\".format(contrast))\n",
    "    \n",
    "    negative_ctrl_grp = list(contrast_dict[contrast]['negative_ctrl_grp'].values())[0]\n",
    "    test_group = list(contrast_dict[contrast]['test_group'].values())[0]\n",
    "    \n",
    "    mpbs_files = ','.join([FOOT_BED_DIR +  sample + '_mpbs.bed' for sample in test_group + negative_ctrl_grp])\n",
    "    # print(\"mpbs_files: \\n{}\\n\".format(mpbs_files))\n",
    "    \n",
    "    bam_files = ','.join([BAM_DIR +  sample + '.small.chrsorted.BAM'  for sample in test_group + negative_ctrl_grp])\n",
    "    # print(\"bam_files: \\n{}\\n\".format(bam_files))\n",
    "    \n",
    "    conditions = ','.join(np.repeat([list(contrast_dict[contrast]['test_group'].keys())[0] , list(contrast_dict[contrast]['negative_ctrl_grp'].keys())[0]], [len(test_group), len(negative_ctrl_grp)], axis=0))\n",
    "    print(\"conditions: \\n{}\\n\".format(conditions))\n",
    "    \n",
    "    footprint_contrast_dir = create_footprint_contrast_dir(contrast)\n",
    "    \n",
    "    ## 3- generate average ATAC-seq profiles around binding sites of particular TF ##\n",
    "    cmd_diff = \"\"\"rgt-hint differential --organism={genome} --bc --nc 30 --lfc 0.1 --mpbs-files={mpbs_files} --reads-files={bam_files} --conditions={conditions} --output-location={footprint_contrast_dir}\"\"\".format(genome=genome, mpbs_files=mpbs_files, bam_files=bam_files, conditions=conditions, footprint_contrast_dir=footprint_contrast_dir, contrast=contrast)\n",
    "    print(cmd_diff)\n",
    "    print()\n",
    "    # ! {cmd_diff}"
   ]
  },
  {
   "cell_type": "code",
   "execution_count": null,
   "id": "6d60490c-3d70-458f-b0fa-e59d89861c8e",
   "metadata": {},
   "outputs": [],
   "source": [
    "len(negative_ctrl_grp)"
   ]
  },
  {
   "cell_type": "code",
   "execution_count": null,
   "id": "400b7303-3bb9-4728-83d6-d8ec446c73f1",
   "metadata": {},
   "outputs": [],
   "source": []
  },
  {
   "cell_type": "code",
   "execution_count": null,
   "id": "1972137a-6afb-4f47-be02-fbeb8541df0a",
   "metadata": {},
   "outputs": [],
   "source": []
  },
  {
   "cell_type": "markdown",
   "id": "7ab4fb06-95e0-4e96-8de1-ec73f348c29b",
   "metadata": {},
   "source": [
    "# Footprint Plots"
   ]
  },
  {
   "cell_type": "markdown",
   "id": "aeb09f0b-888c-491b-8e64-d87da34baac2",
   "metadata": {},
   "source": [
    "### 1 - Compute logFC and pValue per motif for each contrast"
   ]
  },
  {
   "cell_type": "code",
   "execution_count": 7,
   "id": "58f73379-3fe4-4916-9ff6-e9f7f14a035c",
   "metadata": {},
   "outputs": [],
   "source": [
    "def compute_logFC_on_differential_statistics(footprint_dir, contrast):\n",
    "    differential_statistics = pd.read_csv(footprint_dir + contrast + '/differential_statistics.txt', sep='\\t', index_col=0)#.iloc[:, [0,7,8,9,10,11,12]]\n",
    "    # display(differential_statistics.head())\n",
    "    differential_statistics.drop([col for col in differential_statistics if col.startswith('Protection')], axis=1, inplace=True)\n",
    "    differential_statistics['Motifs'] = [x.rsplit(\"(\")[0] for x in differential_statistics.index]\n",
    "    differential_statistics['Motifs'] = [x.rsplit(\".\", 1)[-1] for x in differential_statistics['Motifs']]\n",
    "    differential_statistics['index'] = differential_statistics['Motifs'] #+ \" (N=\" + differential_statistics['Num'].astype(str) + \")\"\n",
    "    differential_statistics.set_index('index', inplace=True)\n",
    "    \n",
    "    differential_statistics['tTest'] = [stats.ttest_ind(differential_statistics.iloc[i, [1,2]], differential_statistics.iloc[i, [3,4]])[0] for i in np.arange(differential_statistics.shape[0]).tolist()]\n",
    "    differential_statistics['pVal']  = [stats.ttest_ind(differential_statistics.iloc[i, [1,2]], differential_statistics.iloc[i, [3,4]])[1] for i in np.arange(differential_statistics.shape[0]).tolist()]\n",
    "    differential_statistics['logFC'] = [np.log2( np.mean(differential_statistics.iloc[i, [1,2]]) / np.mean(differential_statistics.iloc[i, [3,4]])) for i in np.arange(differential_statistics.shape[0]).tolist()]\n",
    "    # differential_statistics.sort_values(by=\"pVal\", inplace= True)\n",
    "    differential_statistics.sort_index(inplace=True)\n",
    "    print('shape of differential_statistics: {}'.format(differential_statistics.shape))\n",
    "    display(differential_statistics.head(n=2))\n",
    "    \n",
    "    differential_statistics.to_csv(footprint_dir + contrast + '/differential_statistics_with_logFC.txt', sep='\\t')\n",
    "    \n",
    "    return differential_statistics"
   ]
  },
  {
   "cell_type": "markdown",
   "id": "4a1c6681-1d3f-4a54-b78b-8fcce7e35ad0",
   "metadata": {},
   "source": [
    "### 2 - Build volcano plot and heatmap for each contrast"
   ]
  },
  {
   "cell_type": "code",
   "execution_count": 8,
   "id": "8049970b-691b-4609-a2f8-83e54947df20",
   "metadata": {},
   "outputs": [],
   "source": [
    "def build_volcano_plot(footprint_dir, contrast, differential_statistics):\n",
    "    down_logFC_cutoff = -0.25\n",
    "    up_logFC_cutoff = 0.25\n",
    "    pVal_cutoff = 0.05\n",
    "\n",
    "    plt.scatter(x=differential_statistics['logFC'],y=differential_statistics['pVal'].apply(lambda x:-np.log10(x)),s=1,label=\"Not significant\", color=\"grey\")\n",
    "\n",
    "    # highlight down- or up- regulated genes\n",
    "    down = differential_statistics[(differential_statistics['logFC']<=down_logFC_cutoff)&(differential_statistics['pVal']<=pVal_cutoff)]\n",
    "    up = differential_statistics[(differential_statistics['logFC']>=up_logFC_cutoff)&(differential_statistics['pVal']<=pVal_cutoff)]\n",
    "\n",
    "\n",
    "    plt.scatter(x=down['logFC'],y=down['pVal'].apply(lambda x:-np.log10(x)),s=3,label=\"Down-regulated\",color=\"blue\")\n",
    "    plt.scatter(x=up['logFC'],y=up['pVal'].apply(lambda x:-np.log10(x)),s=3,label=\"Up-regulated\",color=\"red\")\n",
    "    texts=[]\n",
    "\n",
    "    if (up.shape[0]!=0):    \n",
    "        for i,r in up.iterrows():\n",
    "            texts.append(plt.text(x=r['logFC'],y=-np.log10(r['pVal']),s=differential_statistics.loc[i, 'Motifs']))\n",
    "        adjust_text(texts) #,arrowprops=dict(arrowstyle=\"-\", color='black', lw=0.5))\n",
    "        \n",
    "    if (down.shape[0]!=0):    \n",
    "        for i,r in down.iterrows():\n",
    "            texts.append(plt.text(x=r['logFC'],y=-np.log10(r['pVal']),s=differential_statistics.loc[i, 'Motifs']))\n",
    "        adjust_text(texts) #,arrowprops=dict(arrowstyle=\"-\", color='black', lw=0.5))\n",
    "    plt.xlabel(\"logFC\")\n",
    "    plt.ylabel(\"-np.log10(pVal)\")\n",
    "    plt.axvline(down_logFC_cutoff,color=\"grey\",linestyle=\"--\")\n",
    "    plt.axvline(up_logFC_cutoff,color=\"grey\",linestyle=\"--\")\n",
    "    plt.axhline(-np.log10(pVal_cutoff),color=\"grey\",linestyle=\"--\")\n",
    "    plt.legend()    \n",
    "\n",
    "    \n",
    "    plt.gcf().set_size_inches(15, 10)\n",
    "\n",
    "    plt.savefig(footprint_dir + contrast + \"/\" + contrast+ \"_volcano_plot.pdf\", dpi=200)\n",
    "    plt.show()\n",
    "    \n"
   ]
  },
  {
   "cell_type": "code",
   "execution_count": 9,
   "id": "0c629fa0-464b-488b-8011-f072087afcaa",
   "metadata": {
    "tags": []
   },
   "outputs": [],
   "source": [
    "def plot_heatmap(footprint_dir, contrast, differential_statistics):\n",
    "    \n",
    "    fig, ax = plt.subplots(figsize=(20, 20))\n",
    "    sns.set(font_scale=1.4)\n",
    "    \n",
    "    # Filter sig motfi and sort by logFC\n",
    "    heatmap_df = differential_statistics[differential_statistics['pVal'] < 0.05].sort_values(by=\"pVal\").drop(['Num', 'Motifs', \"tTest\", \"logFC\", \"pVal\"], axis=1)\n",
    "    \n",
    "       \n",
    "    \n",
    "    # heatmap_df = differential_statistics.sort_values(by=\"pVal\").drop(['Num', 'Motifs', \"tTest\", \"logFC\", \"pVal\"], axis=1)\n",
    "   \n",
    "    # heatmap_df = differential_statistics.sort_values(by=\"pVal\").drop(['Num', 'Motifs', \"tTest\"], axis=1)\n",
    "    # t = [x for x in heatmap_df.columns if not x in {\"logFC\", \"pVal\"}]\n",
    "    # new_col_order = [\"logFC\", \"pVal\"] + t\n",
    "    # heatmap_df = heatmap_df[new_col_order]\n",
    "    # display(heatmap_df.head())\n",
    "    # heatmap_df.to_csv(footprint_dir + contrast + '/heatmap_df.txt', sep='\\t')                                                   \n",
    "    \n",
    "    \n",
    "    sns.heatmap(heatmap_df[0:10],  linewidths=.5, annot=True)\n",
    "    # plt.gcf().set_size_inches(10, 5)\n",
    "    plt.xticks(rotation=45) \n",
    "    plt.yticks(fontsize = 11) \n",
    "\n",
    "    plt.savefig(footprint_dir + contrast + \"/\" + contrast+ \"_heatmap.pdf\", dpi=400)\n",
    "    plt.show()"
   ]
  },
  {
   "cell_type": "code",
   "execution_count": 10,
   "id": "5e835752-83c1-43b4-9946-2d65b2936135",
   "metadata": {
    "tags": []
   },
   "outputs": [
    {
     "name": "stdout",
     "output_type": "stream",
     "text": [
      "ARID1AKO_ARID1BKD_HCT116_WT_HCT116\n",
      "shape of differential_statistics: (746, 9)\n"
     ]
    },
    {
     "data": {
      "text/html": [
       "<div>\n",
       "<style scoped>\n",
       "    .dataframe tbody tr th:only-of-type {\n",
       "        vertical-align: middle;\n",
       "    }\n",
       "\n",
       "    .dataframe tbody tr th {\n",
       "        vertical-align: top;\n",
       "    }\n",
       "\n",
       "    .dataframe thead th {\n",
       "        text-align: right;\n",
       "    }\n",
       "</style>\n",
       "<table border=\"1\" class=\"dataframe\">\n",
       "  <thead>\n",
       "    <tr style=\"text-align: right;\">\n",
       "      <th></th>\n",
       "      <th>Num</th>\n",
       "      <th>TC_ARID1AKO_ARID1BKD_HCT116</th>\n",
       "      <th>TC_ARID1AKO_ARID1BKD_HCT116.1</th>\n",
       "      <th>TC_WT_HCT116</th>\n",
       "      <th>TC_WT_HCT116.1</th>\n",
       "      <th>Motifs</th>\n",
       "      <th>tTest</th>\n",
       "      <th>pVal</th>\n",
       "      <th>logFC</th>\n",
       "    </tr>\n",
       "    <tr>\n",
       "      <th>index</th>\n",
       "      <th></th>\n",
       "      <th></th>\n",
       "      <th></th>\n",
       "      <th></th>\n",
       "      <th></th>\n",
       "      <th></th>\n",
       "      <th></th>\n",
       "      <th></th>\n",
       "      <th></th>\n",
       "    </tr>\n",
       "  </thead>\n",
       "  <tbody>\n",
       "    <tr>\n",
       "      <th>ALX3</th>\n",
       "      <td>9488</td>\n",
       "      <td>0.020139</td>\n",
       "      <td>0.020207</td>\n",
       "      <td>0.018885</td>\n",
       "      <td>0.018055</td>\n",
       "      <td>ALX3</td>\n",
       "      <td>4.088672</td>\n",
       "      <td>0.054936</td>\n",
       "      <td>0.127216</td>\n",
       "    </tr>\n",
       "    <tr>\n",
       "      <th>ARGFX</th>\n",
       "      <td>10521</td>\n",
       "      <td>0.017436</td>\n",
       "      <td>0.017796</td>\n",
       "      <td>0.016946</td>\n",
       "      <td>0.015749</td>\n",
       "      <td>ARGFX</td>\n",
       "      <td>2.028142</td>\n",
       "      <td>0.179727</td>\n",
       "      <td>0.107763</td>\n",
       "    </tr>\n",
       "  </tbody>\n",
       "</table>\n",
       "</div>"
      ],
      "text/plain": [
       "         Num  TC_ARID1AKO_ARID1BKD_HCT116  TC_ARID1AKO_ARID1BKD_HCT116.1  \\\n",
       "index                                                                      \n",
       "ALX3    9488                     0.020139                       0.020207   \n",
       "ARGFX  10521                     0.017436                       0.017796   \n",
       "\n",
       "       TC_WT_HCT116  TC_WT_HCT116.1 Motifs     tTest      pVal     logFC  \n",
       "index                                                                     \n",
       "ALX3       0.018885        0.018055   ALX3  4.088672  0.054936  0.127216  \n",
       "ARGFX      0.016946        0.015749  ARGFX  2.028142  0.179727  0.107763  "
      ]
     },
     "metadata": {},
     "output_type": "display_data"
    },
    {
     "ename": "ValueError",
     "evalue": "The truth value of a Series is ambiguous. Use a.empty, a.bool(), a.item(), a.any() or a.all().",
     "output_type": "error",
     "traceback": [
      "\u001b[0;31m---------------------------------------------------------------------------\u001b[0m",
      "\u001b[0;31mValueError\u001b[0m                                Traceback (most recent call last)",
      "\u001b[0;32m/tmp/ipykernel_6281/2464551711.py\u001b[0m in \u001b[0;36m<module>\u001b[0;34m\u001b[0m\n\u001b[1;32m      7\u001b[0m         \u001b[0;31m# plot_heatmap(footprint_dir, contrast, differential_statistics)\u001b[0m\u001b[0;34m\u001b[0m\u001b[0;34m\u001b[0m\u001b[0;34m\u001b[0m\u001b[0m\n\u001b[1;32m      8\u001b[0m \u001b[0;34m\u001b[0m\u001b[0m\n\u001b[0;32m----> 9\u001b[0;31m \u001b[0mfootprinting_plots\u001b[0m\u001b[0;34m(\u001b[0m\u001b[0mcontrasts_df\u001b[0m\u001b[0;34m,\u001b[0m \u001b[0mexperiment_id\u001b[0m\u001b[0;34m)\u001b[0m\u001b[0;34m\u001b[0m\u001b[0;34m\u001b[0m\u001b[0m\n\u001b[0m",
      "\u001b[0;32m/tmp/ipykernel_6281/2464551711.py\u001b[0m in \u001b[0;36mfootprinting_plots\u001b[0;34m(contrasts_df, experiment_id)\u001b[0m\n\u001b[1;32m      4\u001b[0m         \u001b[0mprint\u001b[0m\u001b[0;34m(\u001b[0m\u001b[0mcontrast\u001b[0m\u001b[0;34m)\u001b[0m\u001b[0;34m\u001b[0m\u001b[0;34m\u001b[0m\u001b[0m\n\u001b[1;32m      5\u001b[0m         \u001b[0mdifferential_statistics\u001b[0m \u001b[0;34m=\u001b[0m \u001b[0mcompute_logFC_on_differential_statistics\u001b[0m\u001b[0;34m(\u001b[0m\u001b[0mfootprint_dir\u001b[0m\u001b[0;34m,\u001b[0m \u001b[0mcontrast\u001b[0m\u001b[0;34m)\u001b[0m\u001b[0;34m\u001b[0m\u001b[0;34m\u001b[0m\u001b[0m\n\u001b[0;32m----> 6\u001b[0;31m         \u001b[0mbuild_volcano_plot\u001b[0m\u001b[0;34m(\u001b[0m\u001b[0mfootprint_dir\u001b[0m\u001b[0;34m,\u001b[0m \u001b[0mcontrast\u001b[0m\u001b[0;34m,\u001b[0m \u001b[0mdifferential_statistics\u001b[0m\u001b[0;34m)\u001b[0m\u001b[0;34m\u001b[0m\u001b[0;34m\u001b[0m\u001b[0m\n\u001b[0m\u001b[1;32m      7\u001b[0m         \u001b[0;31m# plot_heatmap(footprint_dir, contrast, differential_statistics)\u001b[0m\u001b[0;34m\u001b[0m\u001b[0;34m\u001b[0m\u001b[0;34m\u001b[0m\u001b[0m\n\u001b[1;32m      8\u001b[0m \u001b[0;34m\u001b[0m\u001b[0m\n",
      "\u001b[0;32m/tmp/ipykernel_6281/1131423636.py\u001b[0m in \u001b[0;36mbuild_volcano_plot\u001b[0;34m(footprint_dir, contrast, differential_statistics)\u001b[0m\n\u001b[1;32m     22\u001b[0m     \u001b[0;32mif\u001b[0m \u001b[0;34m(\u001b[0m\u001b[0mdown\u001b[0m\u001b[0;34m.\u001b[0m\u001b[0mshape\u001b[0m\u001b[0;34m[\u001b[0m\u001b[0;36m0\u001b[0m\u001b[0;34m]\u001b[0m\u001b[0;34m!=\u001b[0m\u001b[0;36m0\u001b[0m\u001b[0;34m)\u001b[0m\u001b[0;34m:\u001b[0m\u001b[0;34m\u001b[0m\u001b[0;34m\u001b[0m\u001b[0m\n\u001b[1;32m     23\u001b[0m         \u001b[0;32mfor\u001b[0m \u001b[0mi\u001b[0m\u001b[0;34m,\u001b[0m\u001b[0mr\u001b[0m \u001b[0;32min\u001b[0m \u001b[0mdown\u001b[0m\u001b[0;34m.\u001b[0m\u001b[0miterrows\u001b[0m\u001b[0;34m(\u001b[0m\u001b[0;34m)\u001b[0m\u001b[0;34m:\u001b[0m\u001b[0;34m\u001b[0m\u001b[0;34m\u001b[0m\u001b[0m\n\u001b[0;32m---> 24\u001b[0;31m             \u001b[0mtexts\u001b[0m\u001b[0;34m.\u001b[0m\u001b[0mappend\u001b[0m\u001b[0;34m(\u001b[0m\u001b[0mplt\u001b[0m\u001b[0;34m.\u001b[0m\u001b[0mtext\u001b[0m\u001b[0;34m(\u001b[0m\u001b[0mx\u001b[0m\u001b[0;34m=\u001b[0m\u001b[0mr\u001b[0m\u001b[0;34m[\u001b[0m\u001b[0;34m'logFC'\u001b[0m\u001b[0;34m]\u001b[0m\u001b[0;34m,\u001b[0m\u001b[0my\u001b[0m\u001b[0;34m=\u001b[0m\u001b[0;34m-\u001b[0m\u001b[0mnp\u001b[0m\u001b[0;34m.\u001b[0m\u001b[0mlog10\u001b[0m\u001b[0;34m(\u001b[0m\u001b[0mr\u001b[0m\u001b[0;34m[\u001b[0m\u001b[0;34m'pVal'\u001b[0m\u001b[0;34m]\u001b[0m\u001b[0;34m)\u001b[0m\u001b[0;34m,\u001b[0m\u001b[0ms\u001b[0m\u001b[0;34m=\u001b[0m\u001b[0mdifferential_statistics\u001b[0m\u001b[0;34m.\u001b[0m\u001b[0mloc\u001b[0m\u001b[0;34m[\u001b[0m\u001b[0mi\u001b[0m\u001b[0;34m,\u001b[0m \u001b[0;34m'Motifs'\u001b[0m\u001b[0;34m]\u001b[0m\u001b[0;34m)\u001b[0m\u001b[0;34m)\u001b[0m\u001b[0;34m\u001b[0m\u001b[0;34m\u001b[0m\u001b[0m\n\u001b[0m\u001b[1;32m     25\u001b[0m         \u001b[0madjust_text\u001b[0m\u001b[0;34m(\u001b[0m\u001b[0mtexts\u001b[0m\u001b[0;34m)\u001b[0m \u001b[0;31m#,arrowprops=dict(arrowstyle=\"-\", color='black', lw=0.5))\u001b[0m\u001b[0;34m\u001b[0m\u001b[0;34m\u001b[0m\u001b[0m\n\u001b[1;32m     26\u001b[0m     \u001b[0mplt\u001b[0m\u001b[0;34m.\u001b[0m\u001b[0mxlabel\u001b[0m\u001b[0;34m(\u001b[0m\u001b[0;34m\"logFC\"\u001b[0m\u001b[0;34m)\u001b[0m\u001b[0;34m\u001b[0m\u001b[0;34m\u001b[0m\u001b[0m\n",
      "\u001b[0;32m/mnt/compbio_tools/miniconda3/envs/NGS_env/lib/python3.7/site-packages/matplotlib/pyplot.py\u001b[0m in \u001b[0;36mtext\u001b[0;34m(x, y, s, fontdict, **kwargs)\u001b[0m\n\u001b[1;32m   2925\u001b[0m \u001b[0;34m@\u001b[0m\u001b[0m_copy_docstring_and_deprecators\u001b[0m\u001b[0;34m(\u001b[0m\u001b[0mAxes\u001b[0m\u001b[0;34m.\u001b[0m\u001b[0mtext\u001b[0m\u001b[0;34m)\u001b[0m\u001b[0;34m\u001b[0m\u001b[0;34m\u001b[0m\u001b[0m\n\u001b[1;32m   2926\u001b[0m \u001b[0;32mdef\u001b[0m \u001b[0mtext\u001b[0m\u001b[0;34m(\u001b[0m\u001b[0mx\u001b[0m\u001b[0;34m,\u001b[0m \u001b[0my\u001b[0m\u001b[0;34m,\u001b[0m \u001b[0ms\u001b[0m\u001b[0;34m,\u001b[0m \u001b[0mfontdict\u001b[0m\u001b[0;34m=\u001b[0m\u001b[0;32mNone\u001b[0m\u001b[0;34m,\u001b[0m \u001b[0;34m**\u001b[0m\u001b[0mkwargs\u001b[0m\u001b[0;34m)\u001b[0m\u001b[0;34m:\u001b[0m\u001b[0;34m\u001b[0m\u001b[0;34m\u001b[0m\u001b[0m\n\u001b[0;32m-> 2927\u001b[0;31m     \u001b[0;32mreturn\u001b[0m \u001b[0mgca\u001b[0m\u001b[0;34m(\u001b[0m\u001b[0;34m)\u001b[0m\u001b[0;34m.\u001b[0m\u001b[0mtext\u001b[0m\u001b[0;34m(\u001b[0m\u001b[0mx\u001b[0m\u001b[0;34m,\u001b[0m \u001b[0my\u001b[0m\u001b[0;34m,\u001b[0m \u001b[0ms\u001b[0m\u001b[0;34m,\u001b[0m \u001b[0mfontdict\u001b[0m\u001b[0;34m=\u001b[0m\u001b[0mfontdict\u001b[0m\u001b[0;34m,\u001b[0m \u001b[0;34m**\u001b[0m\u001b[0mkwargs\u001b[0m\u001b[0;34m)\u001b[0m\u001b[0;34m\u001b[0m\u001b[0;34m\u001b[0m\u001b[0m\n\u001b[0m\u001b[1;32m   2928\u001b[0m \u001b[0;34m\u001b[0m\u001b[0m\n\u001b[1;32m   2929\u001b[0m \u001b[0;34m\u001b[0m\u001b[0m\n",
      "\u001b[0;32m/mnt/compbio_tools/miniconda3/envs/NGS_env/lib/python3.7/site-packages/matplotlib/axes/_axes.py\u001b[0m in \u001b[0;36mtext\u001b[0;34m(self, x, y, s, fontdict, **kwargs)\u001b[0m\n\u001b[1;32m    657\u001b[0m             \u001b[0;34m**\u001b[0m\u001b[0mkwargs\u001b[0m\u001b[0;34m,\u001b[0m\u001b[0;34m\u001b[0m\u001b[0;34m\u001b[0m\u001b[0m\n\u001b[1;32m    658\u001b[0m         }\n\u001b[0;32m--> 659\u001b[0;31m         \u001b[0mt\u001b[0m \u001b[0;34m=\u001b[0m \u001b[0mmtext\u001b[0m\u001b[0;34m.\u001b[0m\u001b[0mText\u001b[0m\u001b[0;34m(\u001b[0m\u001b[0mx\u001b[0m\u001b[0;34m,\u001b[0m \u001b[0my\u001b[0m\u001b[0;34m,\u001b[0m \u001b[0mtext\u001b[0m\u001b[0;34m=\u001b[0m\u001b[0ms\u001b[0m\u001b[0;34m,\u001b[0m \u001b[0;34m**\u001b[0m\u001b[0meffective_kwargs\u001b[0m\u001b[0;34m)\u001b[0m\u001b[0;34m\u001b[0m\u001b[0;34m\u001b[0m\u001b[0m\n\u001b[0m\u001b[1;32m    660\u001b[0m         \u001b[0mt\u001b[0m\u001b[0;34m.\u001b[0m\u001b[0mset_clip_path\u001b[0m\u001b[0;34m(\u001b[0m\u001b[0mself\u001b[0m\u001b[0;34m.\u001b[0m\u001b[0mpatch\u001b[0m\u001b[0;34m)\u001b[0m\u001b[0;34m\u001b[0m\u001b[0;34m\u001b[0m\u001b[0m\n\u001b[1;32m    661\u001b[0m         \u001b[0mself\u001b[0m\u001b[0;34m.\u001b[0m\u001b[0m_add_text\u001b[0m\u001b[0;34m(\u001b[0m\u001b[0mt\u001b[0m\u001b[0;34m)\u001b[0m\u001b[0;34m\u001b[0m\u001b[0;34m\u001b[0m\u001b[0m\n",
      "\u001b[0;32m/mnt/compbio_tools/miniconda3/envs/NGS_env/lib/python3.7/site-packages/matplotlib/text.py\u001b[0m in \u001b[0;36m__init__\u001b[0;34m(self, x, y, text, color, verticalalignment, horizontalalignment, multialignment, fontproperties, rotation, linespacing, rotation_mode, usetex, wrap, transform_rotates_text, parse_math, **kwargs)\u001b[0m\n\u001b[1;32m    140\u001b[0m         \u001b[0mself\u001b[0m\u001b[0;34m.\u001b[0m\u001b[0m_x\u001b[0m\u001b[0;34m,\u001b[0m \u001b[0mself\u001b[0m\u001b[0;34m.\u001b[0m\u001b[0m_y\u001b[0m \u001b[0;34m=\u001b[0m \u001b[0mx\u001b[0m\u001b[0;34m,\u001b[0m \u001b[0my\u001b[0m\u001b[0;34m\u001b[0m\u001b[0;34m\u001b[0m\u001b[0m\n\u001b[1;32m    141\u001b[0m         \u001b[0mself\u001b[0m\u001b[0;34m.\u001b[0m\u001b[0m_text\u001b[0m \u001b[0;34m=\u001b[0m \u001b[0;34m''\u001b[0m\u001b[0;34m\u001b[0m\u001b[0;34m\u001b[0m\u001b[0m\n\u001b[0;32m--> 142\u001b[0;31m         \u001b[0mself\u001b[0m\u001b[0;34m.\u001b[0m\u001b[0mset_text\u001b[0m\u001b[0;34m(\u001b[0m\u001b[0mtext\u001b[0m\u001b[0;34m)\u001b[0m\u001b[0;34m\u001b[0m\u001b[0;34m\u001b[0m\u001b[0m\n\u001b[0m\u001b[1;32m    143\u001b[0m         self.set_color(\n\u001b[1;32m    144\u001b[0m             color if color is not None else mpl.rcParams[\"text.color\"])\n",
      "\u001b[0;32m/mnt/compbio_tools/miniconda3/envs/NGS_env/lib/python3.7/site-packages/matplotlib/text.py\u001b[0m in \u001b[0;36mset_text\u001b[0;34m(self, s)\u001b[0m\n\u001b[1;32m   1221\u001b[0m         \u001b[0;32mif\u001b[0m \u001b[0ms\u001b[0m \u001b[0;32mis\u001b[0m \u001b[0;32mNone\u001b[0m\u001b[0;34m:\u001b[0m\u001b[0;34m\u001b[0m\u001b[0;34m\u001b[0m\u001b[0m\n\u001b[1;32m   1222\u001b[0m             \u001b[0ms\u001b[0m \u001b[0;34m=\u001b[0m \u001b[0;34m''\u001b[0m\u001b[0;34m\u001b[0m\u001b[0;34m\u001b[0m\u001b[0m\n\u001b[0;32m-> 1223\u001b[0;31m         \u001b[0;32mif\u001b[0m \u001b[0ms\u001b[0m \u001b[0;34m!=\u001b[0m \u001b[0mself\u001b[0m\u001b[0;34m.\u001b[0m\u001b[0m_text\u001b[0m\u001b[0;34m:\u001b[0m\u001b[0;34m\u001b[0m\u001b[0;34m\u001b[0m\u001b[0m\n\u001b[0m\u001b[1;32m   1224\u001b[0m             \u001b[0mself\u001b[0m\u001b[0;34m.\u001b[0m\u001b[0m_text\u001b[0m \u001b[0;34m=\u001b[0m \u001b[0mstr\u001b[0m\u001b[0;34m(\u001b[0m\u001b[0ms\u001b[0m\u001b[0;34m)\u001b[0m\u001b[0;34m\u001b[0m\u001b[0;34m\u001b[0m\u001b[0m\n\u001b[1;32m   1225\u001b[0m             \u001b[0mself\u001b[0m\u001b[0;34m.\u001b[0m\u001b[0mstale\u001b[0m \u001b[0;34m=\u001b[0m \u001b[0;32mTrue\u001b[0m\u001b[0;34m\u001b[0m\u001b[0;34m\u001b[0m\u001b[0m\n",
      "\u001b[0;32m/mnt/compbio_tools/miniconda3/envs/NGS_env/lib/python3.7/site-packages/pandas/core/generic.py\u001b[0m in \u001b[0;36m__nonzero__\u001b[0;34m(self)\u001b[0m\n\u001b[1;32m   1536\u001b[0m     \u001b[0;32mdef\u001b[0m \u001b[0m__nonzero__\u001b[0m\u001b[0;34m(\u001b[0m\u001b[0mself\u001b[0m\u001b[0;34m)\u001b[0m\u001b[0;34m:\u001b[0m\u001b[0;34m\u001b[0m\u001b[0;34m\u001b[0m\u001b[0m\n\u001b[1;32m   1537\u001b[0m         raise ValueError(\n\u001b[0;32m-> 1538\u001b[0;31m             \u001b[0;34mf\"The truth value of a {type(self).__name__} is ambiguous. \"\u001b[0m\u001b[0;34m\u001b[0m\u001b[0;34m\u001b[0m\u001b[0m\n\u001b[0m\u001b[1;32m   1539\u001b[0m             \u001b[0;34m\"Use a.empty, a.bool(), a.item(), a.any() or a.all().\"\u001b[0m\u001b[0;34m\u001b[0m\u001b[0;34m\u001b[0m\u001b[0m\n\u001b[1;32m   1540\u001b[0m         )\n",
      "\u001b[0;31mValueError\u001b[0m: The truth value of a Series is ambiguous. Use a.empty, a.bool(), a.item(), a.any() or a.all()."
     ]
    },
    {
     "data": {
      "image/png": "[encoded data removed]",
      "text/plain": [
       "<Figure size 432x288 with 1 Axes>"
      ]
     },
     "metadata": {
      "needs_background": "light"
     },
     "output_type": "display_data"
    }
   ],
   "source": [
    "def footprinting_plots(contrasts_df, experiment_id): \n",
    "\n",
    "    for contrast in contrasts_df['file_friendly_name'][2:]:\n",
    "        print(contrast)\n",
    "        differential_statistics = compute_logFC_on_differential_statistics(footprint_dir, contrast)\n",
    "        build_volcano_plot(footprint_dir, contrast, differential_statistics)\n",
    "        # plot_heatmap(footprint_dir, contrast, differential_statistics)\n",
    "\n",
    "footprinting_plots(contrasts_df, experiment_id)"
   ]
  },
  {
   "cell_type": "markdown",
   "id": "f6904ca6-efd2-4030-a277-1ac6f56738c2",
   "metadata": {},
   "source": [
    "### 3 - Build heatmap for all contrasts together (logFC and pVal)"
   ]
  },
  {
   "cell_type": "code",
   "execution_count": 11,
   "id": "34439551-6609-4fa1-82b8-a4220eaa62f6",
   "metadata": {
    "tags": []
   },
   "outputs": [
    {
     "name": "stderr",
     "output_type": "stream",
     "text": [
      "/mnt/compbio_tools/miniconda3/envs/NGS_env/lib/python3.7/site-packages/pandas/core/frame.py:5047: SettingWithCopyWarning: \n",
      "A value is trying to be set on a copy of a slice from a DataFrame\n",
      "\n",
      "See the caveats in the documentation: https://pandas.pydata.org/pandas-docs/stable/user_guide/indexing.html#returning-a-view-versus-a-copy\n",
      "  errors=errors,\n"
     ]
    },
    {
     "data": {
      "text/html": [
       "<div>\n",
       "<style scoped>\n",
       "    .dataframe tbody tr th:only-of-type {\n",
       "        vertical-align: middle;\n",
       "    }\n",
       "\n",
       "    .dataframe tbody tr th {\n",
       "        vertical-align: top;\n",
       "    }\n",
       "\n",
       "    .dataframe thead th {\n",
       "        text-align: right;\n",
       "    }\n",
       "</style>\n",
       "<table border=\"1\" class=\"dataframe\">\n",
       "  <thead>\n",
       "    <tr style=\"text-align: right;\">\n",
       "      <th></th>\n",
       "      <th>ARID1BKD_HCT116_WT_HCT116</th>\n",
       "      <th>ARID1AKO_HCT116_WT_HCT116</th>\n",
       "      <th>ARID1AKO_ARID1BKD_HCT116_WT_HCT116</th>\n",
       "      <th>ARID1AKO_ARID1BKD_HCT116_ARID1AKO_HCT116</th>\n",
       "      <th>ARID1AKO_ARID1BKD_HCT116_ARID1BKD_HCT116</th>\n",
       "      <th>ARID1BKD_TOV21G_WT_TOV21G</th>\n",
       "    </tr>\n",
       "    <tr>\n",
       "      <th>Motifs</th>\n",
       "      <th></th>\n",
       "      <th></th>\n",
       "      <th></th>\n",
       "      <th></th>\n",
       "      <th></th>\n",
       "      <th></th>\n",
       "    </tr>\n",
       "  </thead>\n",
       "  <tbody>\n",
       "    <tr>\n",
       "      <th>ALX3</th>\n",
       "      <td>-0.039759</td>\n",
       "      <td>0.130830</td>\n",
       "      <td>0.127216</td>\n",
       "      <td>-0.022556</td>\n",
       "      <td>0.144569</td>\n",
       "      <td>0.026036</td>\n",
       "    </tr>\n",
       "    <tr>\n",
       "      <th>ARGFX</th>\n",
       "      <td>-0.049700</td>\n",
       "      <td>0.104709</td>\n",
       "      <td>0.107763</td>\n",
       "      <td>-0.021665</td>\n",
       "      <td>0.142513</td>\n",
       "      <td>-0.004357</td>\n",
       "    </tr>\n",
       "  </tbody>\n",
       "</table>\n",
       "</div>"
      ],
      "text/plain": [
       "        ARID1BKD_HCT116_WT_HCT116  ARID1AKO_HCT116_WT_HCT116  \\\n",
       "Motifs                                                         \n",
       "ALX3                    -0.039759                   0.130830   \n",
       "ARGFX                   -0.049700                   0.104709   \n",
       "\n",
       "        ARID1AKO_ARID1BKD_HCT116_WT_HCT116  \\\n",
       "Motifs                                       \n",
       "ALX3                              0.127216   \n",
       "ARGFX                             0.107763   \n",
       "\n",
       "        ARID1AKO_ARID1BKD_HCT116_ARID1AKO_HCT116  \\\n",
       "Motifs                                             \n",
       "ALX3                                   -0.022556   \n",
       "ARGFX                                  -0.021665   \n",
       "\n",
       "        ARID1AKO_ARID1BKD_HCT116_ARID1BKD_HCT116  ARID1BKD_TOV21G_WT_TOV21G  \n",
       "Motifs                                                                       \n",
       "ALX3                                    0.144569                   0.026036  \n",
       "ARGFX                                   0.142513                  -0.004357  "
      ]
     },
     "metadata": {},
     "output_type": "display_data"
    },
    {
     "data": {
      "text/html": [
       "<div>\n",
       "<style scoped>\n",
       "    .dataframe tbody tr th:only-of-type {\n",
       "        vertical-align: middle;\n",
       "    }\n",
       "\n",
       "    .dataframe tbody tr th {\n",
       "        vertical-align: top;\n",
       "    }\n",
       "\n",
       "    .dataframe thead th {\n",
       "        text-align: right;\n",
       "    }\n",
       "</style>\n",
       "<table border=\"1\" class=\"dataframe\">\n",
       "  <thead>\n",
       "    <tr style=\"text-align: right;\">\n",
       "      <th></th>\n",
       "      <th>ARID1BKD_HCT116_WT_HCT116</th>\n",
       "      <th>ARID1AKO_HCT116_WT_HCT116</th>\n",
       "      <th>ARID1AKO_ARID1BKD_HCT116_WT_HCT116</th>\n",
       "      <th>ARID1AKO_ARID1BKD_HCT116_ARID1AKO_HCT116</th>\n",
       "      <th>ARID1AKO_ARID1BKD_HCT116_ARID1BKD_HCT116</th>\n",
       "      <th>ARID1BKD_TOV21G_WT_TOV21G</th>\n",
       "    </tr>\n",
       "    <tr>\n",
       "      <th>Motifs</th>\n",
       "      <th></th>\n",
       "      <th></th>\n",
       "      <th></th>\n",
       "      <th></th>\n",
       "      <th></th>\n",
       "      <th></th>\n",
       "    </tr>\n",
       "  </thead>\n",
       "  <tbody>\n",
       "    <tr>\n",
       "      <th>ALX3</th>\n",
       "      <td>0.383395</td>\n",
       "      <td>0.104366</td>\n",
       "      <td>0.054936</td>\n",
       "      <td>0.569847</td>\n",
       "      <td>0.032258</td>\n",
       "      <td>0.898090</td>\n",
       "    </tr>\n",
       "    <tr>\n",
       "      <th>ARGFX</th>\n",
       "      <td>0.540041</td>\n",
       "      <td>0.334928</td>\n",
       "      <td>0.179727</td>\n",
       "      <td>0.798011</td>\n",
       "      <td>0.099299</td>\n",
       "      <td>0.986225</td>\n",
       "    </tr>\n",
       "  </tbody>\n",
       "</table>\n",
       "</div>"
      ],
      "text/plain": [
       "        ARID1BKD_HCT116_WT_HCT116  ARID1AKO_HCT116_WT_HCT116  \\\n",
       "Motifs                                                         \n",
       "ALX3                     0.383395                   0.104366   \n",
       "ARGFX                    0.540041                   0.334928   \n",
       "\n",
       "        ARID1AKO_ARID1BKD_HCT116_WT_HCT116  \\\n",
       "Motifs                                       \n",
       "ALX3                              0.054936   \n",
       "ARGFX                             0.179727   \n",
       "\n",
       "        ARID1AKO_ARID1BKD_HCT116_ARID1AKO_HCT116  \\\n",
       "Motifs                                             \n",
       "ALX3                                    0.569847   \n",
       "ARGFX                                   0.798011   \n",
       "\n",
       "        ARID1AKO_ARID1BKD_HCT116_ARID1BKD_HCT116  ARID1BKD_TOV21G_WT_TOV21G  \n",
       "Motifs                                                                       \n",
       "ALX3                                    0.032258                   0.898090  \n",
       "ARGFX                                   0.099299                   0.986225  "
      ]
     },
     "metadata": {},
     "output_type": "display_data"
    }
   ],
   "source": [
    "def build_output_table_by_direction(contrasts_df, footprint_dir):\n",
    "    \n",
    "    diff_stat_results_path = footprint_dir + contrasts_df['file_friendly_name'][0] + '/differential_statistics_with_logFC.txt'\n",
    "    diff_stat_results_df = pd.read_table(diff_stat_results_path, delimiter = '\\t') #, index_col = 0)\n",
    "    \n",
    "    logFC_output_table = diff_stat_results_df[['Motifs','logFC']]\n",
    "    pVal_output_table = diff_stat_results_df[['Motifs','pVal']]    \n",
    "    logFC_output_table.rename(columns={\"logFC\": contrasts_df['file_friendly_name'][0]}, inplace=True)\n",
    "    pVal_output_table.rename(columns={\"pVal\": contrasts_df['file_friendly_name'][0]}, inplace=True)\n",
    "\n",
    "    for contrast in contrasts_df['file_friendly_name'][1:]:\n",
    "\n",
    "        diff_stat_results_path = footprint_dir + contrast + '/differential_statistics_with_logFC.txt'\n",
    "        if os.path.exists(diff_stat_results_path):\n",
    "\n",
    "            diff_stat_results_df = pd.read_table(diff_stat_results_path, delimiter = '\\t') #, index_col = 0)\n",
    "            logFC_output_table = pd.merge(logFC_output_table, diff_stat_results_df[['Motifs','logFC']], on='Motifs')\n",
    "            logFC_output_table.rename(columns={\"logFC\": contrast}, inplace=True)\n",
    "            pVal_output_table = pd.merge(pVal_output_table, diff_stat_results_df[['Motifs','pVal']] , on='Motifs')\n",
    "            pVal_output_table.rename(columns={\"pVal\": contrast}, inplace=True)\n",
    "\n",
    "    logFC_output_table.set_index('Motifs', inplace=True)\n",
    "    pVal_output_table.set_index('Motifs', inplace=True)\n",
    "    \n",
    "    display(logFC_output_table.head(2))\n",
    "    display(pVal_output_table.head(2))\n",
    "    \n",
    "    logFC_output_table.to_csv(footprint_dir +'footprint_logFC_r{}x{}.txt'.format(logFC_output_table.shape[0], logFC_output_table.shape[1]), sep='\\t')\n",
    "    pVal_output_table.to_csv(footprint_dir +'footprint_logFC_r{}x{}.txt'.format(pVal_output_table.shape[0], pVal_output_table.shape[1]), sep='\\t')\n",
    "\n",
    "\n",
    "build_output_table_by_direction(contrasts_df, footprint_dir)"
   ]
  },
  {
   "cell_type": "code",
   "execution_count": null,
   "id": "a8c4e141-1dd4-4533-873e-c3fb9bb0327d",
   "metadata": {},
   "outputs": [],
   "source": []
  },
  {
   "cell_type": "markdown",
   "id": "89ebc98a-13f0-4cb6-bccd-3375e65545de",
   "metadata": {},
   "source": [
    "### END ###"
   ]
  },
  {
   "cell_type": "code",
   "execution_count": null,
   "id": "1f491038-d4da-4e25-9ff1-1581615d396c",
   "metadata": {},
   "outputs": [],
   "source": []
  },
  {
   "cell_type": "code",
   "execution_count": null,
   "id": "3a347c50-123c-4cea-9702-0ae2cec128c2",
   "metadata": {},
   "outputs": [],
   "source": []
  },
  {
   "cell_type": "code",
   "execution_count": null,
   "id": "40af0036-d0b1-4411-9ae0-5042c2757a1f",
   "metadata": {},
   "outputs": [],
   "source": []
  },
  {
   "cell_type": "code",
   "execution_count": null,
   "id": "d6891052-6284-4ceb-b880-b059e6552935",
   "metadata": {},
   "outputs": [],
   "source": [
    "def compute_logFC_on_differential_statistics(footprint_dir, contrast):\n",
    "    differential_statistics = pd.read_csv(footprint_dir + contrast + '/differential_statistics.txt', sep='\\t', index_col=0)#.iloc[:, [0,7,8,9,10,11,12]]\n",
    "    differential_statistics.drop([col for col in differential_statistics if col.startswith('Protection')], axis=1, inplace=True)\n",
    "    differential_statistics['Motifs'] = [x.rsplit(\".\", 1)[-1] for x in differential_statistics.index]\n",
    "    differential_statistics['index'] = differential_statistics['Motifs'] + \" (N=\" + differential_statistics['Num'].astype(str) + \")\"\n",
    "    differential_statistics.set_index('index', inplace=True)\n",
    "    \n",
    "    differential_statistics['tTest'] = [stats.ttest_ind(differential_statistics.iloc[i, [1,2]], differential_statistics.iloc[i, [3,4]])[0] for i in np.arange(differential_statistics.shape[0]).tolist()]\n",
    "    differential_statistics['pVal']  = [stats.ttest_ind(differential_statistics.iloc[i, [1,2]], differential_statistics.iloc[i, [3,4]])[1] for i in np.arange(differential_statistics.shape[0]).tolist()]\n",
    "    differential_statistics['logFC'] = [np.log2( np.mean(differential_statistics.iloc[i, [1,2]]) / np.mean(differential_statistics.iloc[i, [3,4]])) for i in np.arange(differential_statistics.shape[0]).tolist()]\n",
    "    differential_statistics.sort_values(by=\"pVal\", inplace= True)\n",
    "    \n",
    "    print('shape of differential_statistics: {}'.format(differential_statistics.shape))\n",
    "    display(differential_statistics.head(n=2))\n",
    "    \n",
    "    differential_statistics.to_csv(footprint_dir + contrast + '/differential_statistics_with_logFC.txt', sep='\\t')\n",
    "    \n",
    "    return differential_statistics"
   ]
  }
 ],
 "metadata": {
  "kernelspec": {
   "display_name": "Python 3 (ipykernel)",
   "language": "python",
   "name": "python3"
  },
  "language_info": {
   "codemirror_mode": {
    "name": "ipython",
    "version": 3
   },
   "file_extension": ".py",
   "mimetype": "text/x-python",
   "name": "python",
   "nbconvert_exporter": "python",
   "pygments_lexer": "ipython3",
   "version": "3.7.11"
  }
 },
 "nbformat": 4,
 "nbformat_minor": 5
}
